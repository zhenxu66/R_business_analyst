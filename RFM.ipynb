{
 "cells": [
  {
   "cell_type": "markdown",
   "metadata": {},
   "source": [
    "分析customer不同维度的特点，分类达到精准营销。\n",
    "\n",
    "I. 用户画像 - 增大LTV (Life-Time-Value)\n",
    "\n",
    "//客户从一开始到最后离开，数据visiable（具体购买）/invisable（使用后social media贴图），\n",
    "// #hashtag click Inquersion可以换成visiable 商业指标。\n",
    "\n",
    "作用（6步骤）：\n",
    "\n",
    "1.准确营销\n",
    "\n",
    "2. 用户收集与统计\n",
    "\n",
    "3. 数据挖掘 - 聚类算法分析 //Machine Learning 花钱额度对应不同category  再营销，促销\n",
    "\n",
    "4. 效果评估  //给评估A/B 促销效果统计分析。\n",
    "\n",
    "5. 产品私人订制 //不同组不同商品\n",
    "\n",
    "6. 竞争分析  //对手供应商 提供更有效的促销赢得客户的taste口味\n",
    "\n",
    "II. 构建流程：\n",
    "（1）基础数据收集 ：\n",
    "\n",
    "基础数据收集 \n",
    "->>网络行为（e.g.点击，click rate，浏览时间最后买)\n",
    "->>服务内行为（买了手机登录store买其他软件产品，存储了多少照片，实时定位,hashtag贴图）\n",
    "->>用户内容偏好（用软件订旅途）\n",
    "->>用户交易（关联产品提供品牌竞争力更强）\n",
    "\n",
    "行为建模 （文本挖掘，自然语言处理，机器学习</font>，预测算法，<font color = 'red'>聚类算法``</font>）\n",
    "\n",
    "构建画像 （基本属性，<font color = 'red'>购买能力</font>，行为特征，兴趣爱好，心理特征，社交网络）\n",
    "\n",
    "III. RFM 模型的意义\n",
    "Recency： 最后一次消费时间与当前时间的间隔\n",
    "\n",
    "Frequency： 三个月购票次数\n",
    "\n",
    "Monetary： 三个月支付总金额\n",
    "\n",
    "IV. RFM Level 等级制度\n",
    "R,F,M 都分为五级 来比较消费者在级别区间的变动，更能显现出相对行为\n",
    "\n",
    "一般来说企业用r和f的变化，来预测用户消费的异常动态，根据客户流失的可能性加上这些用户的m（monetary）的角度来分析，就可以把重点放在贡献度高且流失机会也高的用户上，重点拜访或联系，以最有效的方法晚会挽回流失用户"
   ]
  },
  {
   "cell_type": "code",
   "execution_count": 2,
   "metadata": {},
   "outputs": [
    {
     "name": "stderr",
     "output_type": "stream",
     "text": [
      "Updating HTML index of packages in '.Library'\n",
      "Making 'packages.html' ... done\n"
     ]
    },
    {
     "data": {
      "text/html": [
       "<table>\n",
       "<thead><tr><th scope=col>customer_id</th><th scope=col>revenue</th><th scope=col>most_recent_visit</th><th scope=col>number_of_orders</th><th scope=col>recency_days</th></tr></thead>\n",
       "<tbody>\n",
       "\t<tr><td>22086     </td><td> 777      </td><td>2006-05-14</td><td> 9        </td><td>232       </td></tr>\n",
       "\t<tr><td> 2290     </td><td>1555      </td><td>2006-09-08</td><td>16        </td><td>115       </td></tr>\n",
       "</tbody>\n",
       "</table>\n"
      ],
      "text/latex": [
       "\\begin{tabular}{r|lllll}\n",
       " customer\\_id & revenue & most\\_recent\\_visit & number\\_of\\_orders & recency\\_days\\\\\n",
       "\\hline\n",
       "\t 22086      &  777       & 2006-05-14 &  9         & 232       \\\\\n",
       "\t  2290      & 1555       & 2006-09-08 & 16         & 115       \\\\\n",
       "\\end{tabular}\n"
      ],
      "text/markdown": [
       "\n",
       "customer_id | revenue | most_recent_visit | number_of_orders | recency_days | \n",
       "|---|---|\n",
       "| 22086      |  777       | 2006-05-14 |  9         | 232        | \n",
       "|  2290      | 1555       | 2006-09-08 | 16         | 115        | \n",
       "\n",
       "\n"
      ],
      "text/plain": [
       "  customer_id revenue most_recent_visit number_of_orders recency_days\n",
       "1 22086        777    2006-05-14         9               232         \n",
       "2  2290       1555    2006-09-08        16               115         "
      ]
     },
     "metadata": {},
     "output_type": "display_data"
    },
    {
     "data": {
      "text/html": [
       "<table>\n",
       "<thead><tr><th scope=col>customer_id</th><th scope=col>order_date</th><th scope=col>revenue</th></tr></thead>\n",
       "<tbody>\n",
       "\t<tr><td>Mr. Brion Stark Sr.</td><td>2004-12-20         </td><td>32                 </td></tr>\n",
       "\t<tr><td>Ethyl Botsford     </td><td>2005-05-02         </td><td>36                 </td></tr>\n",
       "</tbody>\n",
       "</table>\n"
      ],
      "text/latex": [
       "\\begin{tabular}{r|lll}\n",
       " customer\\_id & order\\_date & revenue\\\\\n",
       "\\hline\n",
       "\t Mr. Brion Stark Sr. & 2004-12-20          & 32                 \\\\\n",
       "\t Ethyl Botsford      & 2005-05-02          & 36                 \\\\\n",
       "\\end{tabular}\n"
      ],
      "text/markdown": [
       "\n",
       "customer_id | order_date | revenue | \n",
       "|---|---|\n",
       "| Mr. Brion Stark Sr. | 2004-12-20          | 32                  | \n",
       "| Ethyl Botsford      | 2005-05-02          | 36                  | \n",
       "\n",
       "\n"
      ],
      "text/plain": [
       "  customer_id         order_date revenue\n",
       "1 Mr. Brion Stark Sr. 2004-12-20 32     \n",
       "2 Ethyl Botsford      2005-05-02 36     "
      ]
     },
     "metadata": {},
     "output_type": "display_data"
    }
   ],
   "source": [
    "# \"rfm\" data frame\n",
    "#rfm_data_customer <- read.csv(\"/Users/junduo/Desktop/桌面/BA1802/E_Commerce/customer_RFM.csv\", header = TRUE)\n",
    "#install.packages(\"rfm\")\n",
    "library(rfm)\n",
    "head(rfm_data_customer,2)\n",
    "head(rfm_data_orders,2)"
   ]
  },
  {
   "cell_type": "code",
   "execution_count": 3,
   "metadata": {},
   "outputs": [
    {
     "name": "stdout",
     "output_type": "stream",
     "text": [
      "Classes ‘tbl_df’, ‘tbl’ and 'data.frame':\t4906 obs. of  3 variables:\n",
      " $ customer_id: chr  \"Mr. Brion Stark Sr.\" \"Ethyl Botsford\" \"Hosteen Jacobi\" \"Mr. Edw Frami\" ...\n",
      " $ order_date : Date, format: \"2004-12-20\" \"2005-05-02\" ...\n",
      " $ revenue    : num  32 36 116 99 76 56 108 183 30 13 ...\n"
     ]
    }
   ],
   "source": [
    "#show data type of  rfm_data_orders\n",
    "str(rfm_data_orders)"
   ]
  },
  {
   "cell_type": "code",
   "execution_count": 4,
   "metadata": {},
   "outputs": [],
   "source": [
    "#define a varaible for current date to find recency\n",
    "analysis_date <- lubridate::as_date('2006-12-31', tz = 'UTC')"
   ]
  },
  {
   "cell_type": "code",
   "execution_count": 5,
   "metadata": {},
   "outputs": [],
   "source": [
    "#define fine bins for RFM with above data\n",
    "rfm_result <- rfm_table_order(data = rfm_data_orders,\n",
    "                              customer_id = customer_id, \n",
    "                              order_date = order_date,\n",
    "                              revenue = revenue, \n",
    "                              analysis_date = analysis_date,\n",
    "                              recency_bins = 5,\n",
    "                              frequency_bins = 5,\n",
    "                              monetary_bins = 5)"
   ]
  },
  {
   "cell_type": "code",
   "execution_count": 6,
   "metadata": {},
   "outputs": [
    {
     "data": {
      "text/html": [
       "<table>\n",
       "<thead><tr><th scope=col>customer_id</th><th scope=col>date_most_recent</th><th scope=col>recency_days</th><th scope=col>transaction_count</th><th scope=col>amount</th><th scope=col>recency_score</th><th scope=col>frequency_score</th><th scope=col>monetary_score</th><th scope=col>rfm_score</th></tr></thead>\n",
       "<tbody>\n",
       "\t<tr><td>Abbey O'Reilly DVM</td><td>2006-06-09        </td><td>205               </td><td>6                 </td><td>472               </td><td>3                 </td><td>4                 </td><td>3                 </td><td>343               </td></tr>\n",
       "\t<tr><td>Add Senger        </td><td>2006-08-13        </td><td>140               </td><td>3                 </td><td>340               </td><td>4                 </td><td>1                 </td><td>2                 </td><td>412               </td></tr>\n",
       "</tbody>\n",
       "</table>\n"
      ],
      "text/latex": [
       "\\begin{tabular}{r|lllllllll}\n",
       " customer\\_id & date\\_most\\_recent & recency\\_days & transaction\\_count & amount & recency\\_score & frequency\\_score & monetary\\_score & rfm\\_score\\\\\n",
       "\\hline\n",
       "\t Abbey O'Reilly DVM & 2006-06-09         & 205                & 6                  & 472                & 3                  & 4                  & 3                  & 343               \\\\\n",
       "\t Add Senger         & 2006-08-13         & 140                & 3                  & 340                & 4                  & 1                  & 2                  & 412               \\\\\n",
       "\\end{tabular}\n"
      ],
      "text/markdown": [
       "\n",
       "customer_id | date_most_recent | recency_days | transaction_count | amount | recency_score | frequency_score | monetary_score | rfm_score | \n",
       "|---|---|\n",
       "| Abbey O'Reilly DVM | 2006-06-09         | 205                | 6                  | 472                | 3                  | 4                  | 3                  | 343                | \n",
       "| Add Senger         | 2006-08-13         | 140                | 3                  | 340                | 4                  | 1                  | 2                  | 412                | \n",
       "\n",
       "\n"
      ],
      "text/plain": [
       "  customer_id        date_most_recent recency_days transaction_count amount\n",
       "1 Abbey O'Reilly DVM 2006-06-09       205          6                 472   \n",
       "2 Add Senger         2006-08-13       140          3                 340   \n",
       "  recency_score frequency_score monetary_score rfm_score\n",
       "1 3             4               3              343      \n",
       "2 4             1               2              412      "
      ]
     },
     "metadata": {},
     "output_type": "display_data"
    }
   ],
   "source": [
    "head(rfm_result$rfm,2)"
   ]
  },
  {
   "cell_type": "code",
   "execution_count": null,
   "metadata": {},
   "outputs": [],
   "source": []
  }
 ],
 "metadata": {
  "kernelspec": {
   "display_name": "R",
   "language": "R",
   "name": "ir"
  },
  "language_info": {
   "codemirror_mode": "r",
   "file_extension": ".r",
   "mimetype": "text/x-r-source",
   "name": "R",
   "pygments_lexer": "r",
   "version": "3.5.1"
  }
 },
 "nbformat": 4,
 "nbformat_minor": 2
}
